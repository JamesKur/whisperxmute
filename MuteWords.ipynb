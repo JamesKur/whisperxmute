{
 "cells": [
  {
   "cell_type": "code",
   "execution_count": 1,
   "metadata": {},
   "outputs": [],
   "source": [
    "import re\n",
    "import pandas as pd\n",
    "import numpy as np\n",
    "import string\n",
    "import subprocess"
   ]
  },
  {
   "cell_type": "code",
   "execution_count": 2,
   "metadata": {},
   "outputs": [
    {
     "name": "stderr",
     "output_type": "stream",
     "text": [
      "videos/The_Shawshank_Redemption.mkv: No such file or directory\n"
     ]
    },
    {
     "ename": "CalledProcessError",
     "evalue": "Command 'ffprobe -v error -select_streams a -show_entries stream=index:stream_tags=language -of csv=p=0 videos/The_Shawshank_Redemption.mkv' returned non-zero exit status 1.",
     "output_type": "error",
     "traceback": [
      "\u001b[0;31m---------------------------------------------------------------------------\u001b[0m",
      "\u001b[0;31mCalledProcessError\u001b[0m                        Traceback (most recent call last)",
      "Cell \u001b[0;32mIn[2], line 8\u001b[0m\n\u001b[1;32m      6\u001b[0m \u001b[38;5;66;03m# Get the stream index of the lossless English audio track\u001b[39;00m\n\u001b[1;32m      7\u001b[0m cmd \u001b[38;5;241m=\u001b[39m \u001b[38;5;124mf\u001b[39m\u001b[38;5;124m\"\u001b[39m\u001b[38;5;124mffprobe -v error -select_streams a -show_entries stream=index:stream_tags=language -of csv=p=0 \u001b[39m\u001b[38;5;132;01m{\u001b[39;00minput_file\u001b[38;5;132;01m}\u001b[39;00m\u001b[38;5;124m\"\u001b[39m\n\u001b[0;32m----> 8\u001b[0m output \u001b[38;5;241m=\u001b[39m \u001b[43msubprocess\u001b[49m\u001b[38;5;241;43m.\u001b[39;49m\u001b[43mcheck_output\u001b[49m\u001b[43m(\u001b[49m\u001b[43mcmd\u001b[49m\u001b[43m,\u001b[49m\u001b[43m \u001b[49m\u001b[43mshell\u001b[49m\u001b[38;5;241;43m=\u001b[39;49m\u001b[38;5;28;43;01mTrue\u001b[39;49;00m\u001b[43m)\u001b[49m\u001b[38;5;241m.\u001b[39mdecode(\u001b[38;5;124m\"\u001b[39m\u001b[38;5;124mutf-8\u001b[39m\u001b[38;5;124m\"\u001b[39m)\u001b[38;5;241m.\u001b[39mstrip()\n\u001b[1;32m      9\u001b[0m stream_index \u001b[38;5;241m=\u001b[39m \u001b[38;5;28;01mNone\u001b[39;00m\n\u001b[1;32m     10\u001b[0m \u001b[38;5;28;01mfor\u001b[39;00m line \u001b[38;5;129;01min\u001b[39;00m output\u001b[38;5;241m.\u001b[39msplit(\u001b[38;5;124m\"\u001b[39m\u001b[38;5;130;01m\\n\u001b[39;00m\u001b[38;5;124m\"\u001b[39m):\n",
      "File \u001b[0;32m/home/jamesk/miniconda3/envs/whisperx/lib/python3.10/subprocess.py:421\u001b[0m, in \u001b[0;36mcheck_output\u001b[0;34m(timeout, *popenargs, **kwargs)\u001b[0m\n\u001b[1;32m    418\u001b[0m         empty \u001b[38;5;241m=\u001b[39m \u001b[38;5;124mb\u001b[39m\u001b[38;5;124m'\u001b[39m\u001b[38;5;124m'\u001b[39m\n\u001b[1;32m    419\u001b[0m     kwargs[\u001b[38;5;124m'\u001b[39m\u001b[38;5;124minput\u001b[39m\u001b[38;5;124m'\u001b[39m] \u001b[38;5;241m=\u001b[39m empty\n\u001b[0;32m--> 421\u001b[0m \u001b[38;5;28;01mreturn\u001b[39;00m \u001b[43mrun\u001b[49m\u001b[43m(\u001b[49m\u001b[38;5;241;43m*\u001b[39;49m\u001b[43mpopenargs\u001b[49m\u001b[43m,\u001b[49m\u001b[43m \u001b[49m\u001b[43mstdout\u001b[49m\u001b[38;5;241;43m=\u001b[39;49m\u001b[43mPIPE\u001b[49m\u001b[43m,\u001b[49m\u001b[43m \u001b[49m\u001b[43mtimeout\u001b[49m\u001b[38;5;241;43m=\u001b[39;49m\u001b[43mtimeout\u001b[49m\u001b[43m,\u001b[49m\u001b[43m \u001b[49m\u001b[43mcheck\u001b[49m\u001b[38;5;241;43m=\u001b[39;49m\u001b[38;5;28;43;01mTrue\u001b[39;49;00m\u001b[43m,\u001b[49m\n\u001b[1;32m    422\u001b[0m \u001b[43m           \u001b[49m\u001b[38;5;241;43m*\u001b[39;49m\u001b[38;5;241;43m*\u001b[39;49m\u001b[43mkwargs\u001b[49m\u001b[43m)\u001b[49m\u001b[38;5;241m.\u001b[39mstdout\n",
      "File \u001b[0;32m/home/jamesk/miniconda3/envs/whisperx/lib/python3.10/subprocess.py:526\u001b[0m, in \u001b[0;36mrun\u001b[0;34m(input, capture_output, timeout, check, *popenargs, **kwargs)\u001b[0m\n\u001b[1;32m    524\u001b[0m     retcode \u001b[38;5;241m=\u001b[39m process\u001b[38;5;241m.\u001b[39mpoll()\n\u001b[1;32m    525\u001b[0m     \u001b[38;5;28;01mif\u001b[39;00m check \u001b[38;5;129;01mand\u001b[39;00m retcode:\n\u001b[0;32m--> 526\u001b[0m         \u001b[38;5;28;01mraise\u001b[39;00m CalledProcessError(retcode, process\u001b[38;5;241m.\u001b[39margs,\n\u001b[1;32m    527\u001b[0m                                  output\u001b[38;5;241m=\u001b[39mstdout, stderr\u001b[38;5;241m=\u001b[39mstderr)\n\u001b[1;32m    528\u001b[0m \u001b[38;5;28;01mreturn\u001b[39;00m CompletedProcess(process\u001b[38;5;241m.\u001b[39margs, retcode, stdout, stderr)\n",
      "\u001b[0;31mCalledProcessError\u001b[0m: Command 'ffprobe -v error -select_streams a -show_entries stream=index:stream_tags=language -of csv=p=0 videos/The_Shawshank_Redemption.mkv' returned non-zero exit status 1."
     ]
    }
   ],
   "source": [
    "movie_files = 'The_Shawshank_Redemption.mkv'\n",
    "\n",
    "input_file = \"videos/\" + movie_files\n",
    "output_file = \"front_center.flac\"\n",
    "\n",
    "# Get the stream index of the lossless English audio track\n",
    "cmd = f\"ffprobe -v error -select_streams a -show_entries stream=index:stream_tags=language -of csv=p=0 {input_file}\"\n",
    "output = subprocess.check_output(cmd, shell=True).decode(\"utf-8\").strip()\n",
    "stream_index = None\n",
    "for line in output.split(\"\\n\"):\n",
    "    index, language = line.split(\",\")\n",
    "    if language == \"eng\":\n",
    "        stream_index = int(index)\n",
    "        print(line)\n",
    "        break\n",
    "\n",
    "# Extract the center channel of the lossless English audio track\n",
    "cmd = f\"ffmpeg -y -i {input_file} -map 0:a:{stream_index} -ac 1 {output_file}\"\n",
    "subprocess.run(cmd, shell=True)"
   ]
  },
  {
   "cell_type": "code",
   "execution_count": 7,
   "metadata": {},
   "outputs": [
    {
     "name": "stderr",
     "output_type": "stream",
     "text": [
      "torchvision is not available - cannot save figures\n",
      "Lightning automatically upgraded your loaded checkpoint from v1.5.4 to v2.1.0. To apply the upgrade to your files permanently, run `python -m pytorch_lightning.utilities.upgrade_checkpoint ../../../../root/.cache/torch/whisperx-vad-segmentation.bin`\n"
     ]
    },
    {
     "name": "stdout",
     "output_type": "stream",
     "text": [
      "Model was trained with pyannote.audio 0.0.1, yours is 3.1.1. Bad things might happen unless you revert pyannote.audio to 0.x.\n",
      "Model was trained with torch 1.10.0+cu102, yours is 2.0.0. Bad things might happen unless you revert torch to 1.x.\n",
      ">>Performing transcription...\n",
      ">>Performing alignment...\n",
      "Failed to align segment (\" ¶¶\"): no characters in this segment found in model dictionary, resorting to original...\n",
      "Failed to align segment (\" ¶¶\"): no characters in this segment found in model dictionary, resorting to original...\n"
     ]
    },
    {
     "data": {
      "text/plain": [
       "CompletedProcess(args=['whisperx', 'front_center.flac', '--highlight_words', 'True', '--model', 'large-v3', '--language', 'en'], returncode=0)"
      ]
     },
     "execution_count": 7,
     "metadata": {},
     "output_type": "execute_result"
    }
   ],
   "source": [
    "# Define the terminal command as a list of strings\n",
    "whisperx_command = [\n",
    "    'whisperx',\n",
    "    'front_center.flac',\n",
    "    '--highlight_words', 'True',\n",
    "    '--model', 'large-v3',\n",
    "    '--language', 'en'\n",
    "]\n",
    "\n",
    "# Run the whisperx command\n",
    "subprocess.run(whisperx_command, check=True)"
   ]
  },
  {
   "cell_type": "code",
   "execution_count": 8,
   "metadata": {},
   "outputs": [],
   "source": [
    "filename = 'srts/The_Shawshank_Redemption.srt'\n",
    "edlname = 'edls/The_Shawshank_Redemption.edl'"
   ]
  },
  {
   "cell_type": "code",
   "execution_count": 9,
   "metadata": {},
   "outputs": [],
   "source": [
    "def read_four_lines(filename):\n",
    "    with open(filename, 'r') as file:\n",
    "        while True:\n",
    "            # Read 4 lines from the file\n",
    "            lines = [file.readline().strip() for _ in range(4)]\n",
    "\n",
    "            # If there are no more lines left, break the loop\n",
    "            if not lines[0]:\n",
    "                break\n",
    "\n",
    "            yield lines\n",
    "\n",
    "# Example usage:\n",
    "\n",
    "text_groups = read_four_lines(filename)\n",
    "profanity_df = pd.read_csv('dict/profanity.csv',dtype_backend='pyarrow')\n",
    "profanity_df = profanity_df.apply(lambda col: col.str.lower())\n",
    "flat_profanity = profanity_df.values.flatten()\n",
    "flat_profanity = flat_profanity[~pd.isna(flat_profanity)]"
   ]
  },
  {
   "cell_type": "code",
   "execution_count": 10,
   "metadata": {},
   "outputs": [],
   "source": [
    "# Translation table for removing punctuation\n",
    "translator = str.maketrans('', '', string.punctuation)\n",
    "with open(edlname, 'w') as file:\n",
    "    for text in text_groups:\n",
    "        word_between_u = re.search(r'<u>(.*?)</u>', text[2])\n",
    "        if word_between_u:\n",
    "            word = word_between_u.group(1).lower().translate(translator)\n",
    "            if word in flat_profanity:\n",
    "                # Given string\n",
    "                time_string = text[1]\n",
    "\n",
    "                # Using regular expression to extract start and stop times\n",
    "                start_time, stop_time = re.findall(r'(\\d+:\\d+:\\d+,\\d+)', time_string)\n",
    "\n",
    "                # Converting start and stop times to desired format\n",
    "                start_time = start_time.replace(',', '.')\n",
    "                stop_time = stop_time.replace(',', '.')\n",
    "                command = start_time + ' ' + stop_time + ' ' + '1' + ' #' + word\n",
    "                file.write(command+'\\n')"
   ]
  }
 ],
 "metadata": {
  "kernelspec": {
   "display_name": "Python 3",
   "language": "python",
   "name": "python3"
  },
  "language_info": {
   "codemirror_mode": {
    "name": "ipython",
    "version": 3
   },
   "file_extension": ".py",
   "mimetype": "text/x-python",
   "name": "python",
   "nbconvert_exporter": "python",
   "pygments_lexer": "ipython3",
   "version": "3.10.13"
  }
 },
 "nbformat": 4,
 "nbformat_minor": 2
}
